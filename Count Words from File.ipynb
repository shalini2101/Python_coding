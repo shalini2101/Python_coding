{
 "cells": [
  {
   "cell_type": "markdown",
   "metadata": {},
   "source": [
    "Couting All words present in a file"
   ]
  },
  {
   "cell_type": "code",
   "execution_count": 73,
   "metadata": {},
   "outputs": [],
   "source": [
    "with open('test.txt','r+') as file:\n",
    "    data = file.readline()"
   ]
  },
  {
   "cell_type": "code",
   "execution_count": 74,
   "metadata": {},
   "outputs": [],
   "source": [
    "new_data=data.replace('.','')\n",
    "new_data = new_data.replace(',','')"
   ]
  },
  {
   "cell_type": "code",
   "execution_count": 75,
   "metadata": {},
   "outputs": [],
   "source": [
    "x = new_data.split()"
   ]
  },
  {
   "cell_type": "code",
   "execution_count": 76,
   "metadata": {},
   "outputs": [],
   "source": [
    "wordcount={}\n",
    "for word in x:\n",
    "    if word not in wordcount:\n",
    "        wordcount[word]=1\n",
    "    else:\n",
    "        wordcount[word] += 1;"
   ]
  },
  {
   "cell_type": "code",
   "execution_count": 77,
   "metadata": {},
   "outputs": [
    {
     "name": "stdout",
     "output_type": "stream",
     "text": [
      "First:2\n",
      "class:1\n",
      "objects:2\n",
      "in:3\n",
      "a:1\n",
      "language:2\n",
      "are:1\n",
      "handled:1\n",
      "uniformly:1\n",
      "throughout:1\n",
      "They:1\n",
      "may:1\n",
      "be:1\n",
      "stored:1\n",
      "data:1\n",
      "structures:2\n",
      "passed:1\n",
      "as:2\n",
      "arguments:1\n",
      "or:1\n",
      "used:1\n",
      "control:1\n",
      "A:1\n",
      "programming:1\n",
      "is:1\n",
      "said:1\n",
      "to:1\n",
      "support:1\n",
      "first-class:2\n",
      "functions:3\n",
      "if:1\n",
      "it:1\n",
      "treats:1\n",
      "Python:1\n",
      "supports:1\n",
      "the:1\n",
      "concept:1\n",
      "of:1\n",
      "Class:1\n"
     ]
    }
   ],
   "source": [
    "for k,v in wordcount.items():\n",
    "    print('{}:{}'.format(k,v))"
   ]
  },
  {
   "cell_type": "code",
   "execution_count": 78,
   "metadata": {},
   "outputs": [
    {
     "data": {
      "text/plain": [
       "['First',\n",
       " 'class',\n",
       " 'objects',\n",
       " 'in',\n",
       " 'a',\n",
       " 'language',\n",
       " 'are',\n",
       " 'handled',\n",
       " 'uniformly',\n",
       " 'throughout',\n",
       " 'They',\n",
       " 'may',\n",
       " 'be',\n",
       " 'stored',\n",
       " 'in',\n",
       " 'data',\n",
       " 'structures',\n",
       " 'passed',\n",
       " 'as',\n",
       " 'arguments',\n",
       " 'or',\n",
       " 'used',\n",
       " 'in',\n",
       " 'control',\n",
       " 'structures',\n",
       " 'A',\n",
       " 'programming',\n",
       " 'language',\n",
       " 'is',\n",
       " 'said',\n",
       " 'to',\n",
       " 'support',\n",
       " 'first-class',\n",
       " 'functions',\n",
       " 'if',\n",
       " 'it',\n",
       " 'treats',\n",
       " 'functions',\n",
       " 'as',\n",
       " 'first-class',\n",
       " 'objects',\n",
       " 'Python',\n",
       " 'supports',\n",
       " 'the',\n",
       " 'concept',\n",
       " 'of',\n",
       " 'First',\n",
       " 'Class',\n",
       " 'functions']"
      ]
     },
     "execution_count": 78,
     "metadata": {},
     "output_type": "execute_result"
    }
   ],
   "source": [
    "x"
   ]
  },
  {
   "cell_type": "code",
   "execution_count": 81,
   "metadata": {},
   "outputs": [
    {
     "name": "stdout",
     "output_type": "stream",
     "text": [
      "Yahoooo\n"
     ]
    }
   ],
   "source": [
    "if 'first-k' not in x:\n",
    "    print(\"Yahoooo\")\n",
    "else:\n",
    "    print(\"google\")"
   ]
  },
  {
   "cell_type": "code",
   "execution_count": null,
   "metadata": {},
   "outputs": [],
   "source": []
  }
 ],
 "metadata": {
  "kernelspec": {
   "display_name": "Python 3",
   "language": "python",
   "name": "python3"
  },
  "language_info": {
   "codemirror_mode": {
    "name": "ipython",
    "version": 3
   },
   "file_extension": ".py",
   "mimetype": "text/x-python",
   "name": "python",
   "nbconvert_exporter": "python",
   "pygments_lexer": "ipython3",
   "version": "3.7.0"
  }
 },
 "nbformat": 4,
 "nbformat_minor": 2
}
