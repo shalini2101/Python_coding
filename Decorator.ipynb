{
 "cells": [
  {
   "cell_type": "markdown",
   "metadata": {},
   "source": [
    "Decorators are very powerful and useful tool in Python since it allows programmers to modify the behaviour of function or class. Decorators allow us to wrap another function in order to extend the behaviour of wrapped function, without permanently modifying it.\n"
   ]
  },
  {
   "cell_type": "code",
   "execution_count": 5,
   "metadata": {},
   "outputs": [
    {
     "name": "stdout",
     "output_type": "stream",
     "text": [
      "This is how we are adding functionality to display() without changing display fun\n",
      "hey This is Decorator Display\n"
     ]
    }
   ],
   "source": [
    "def decorator_fun(original_fun):\n",
    "    def inner_function():\n",
    "        print(\"This is how we are adding functionality to display() without changing display fun\")\n",
    "        return original_fun()\n",
    "    return inner_function\n",
    "\n",
    "def display():\n",
    "    print(\"hey This is Decorator Display\")\n",
    "\n",
    "my_fun=decorator_fun(display)\n",
    "my_fun()\n",
    "        "
   ]
  },
  {
   "cell_type": "code",
   "execution_count": 6,
   "metadata": {},
   "outputs": [],
   "source": [
    "#Above decorators can also be written as\n",
    "@decorator_fun\n",
    "def my_display():\n",
    "    print(\"Another Way of Decorator Display\")"
   ]
  },
  {
   "cell_type": "code",
   "execution_count": 7,
   "metadata": {},
   "outputs": [
    {
     "name": "stdout",
     "output_type": "stream",
     "text": [
      "This is how we are adding functionality to display() without changing display fun\n",
      "Another Way of Decorator Display\n"
     ]
    }
   ],
   "source": [
    "my_display()"
   ]
  },
  {
   "cell_type": "markdown",
   "metadata": {},
   "source": [
    "Lets get more into decorator"
   ]
  },
  {
   "cell_type": "code",
   "execution_count": 8,
   "metadata": {},
   "outputs": [
    {
     "name": "stdout",
     "output_type": "stream",
     "text": [
      "This function display name:Mukesh and age:32\n"
     ]
    }
   ],
   "source": [
    "def display_params(name,age):\n",
    "    print(\"This function display name:{} and age:{}\".format(name,age))\n",
    "display_params(\"Mukesh\",32)"
   ]
  },
  {
   "cell_type": "markdown",
   "metadata": {},
   "source": [
    "now using same function with decorator"
   ]
  },
  {
   "cell_type": "code",
   "execution_count": 9,
   "metadata": {},
   "outputs": [],
   "source": [
    "@decorator_fun\n",
    "def display_params(name,age):\n",
    "    print(\"This function display name:{} and age:{}\".format(name,age))\n",
    "\n",
    "    "
   ]
  },
  {
   "cell_type": "code",
   "execution_count": 10,
   "metadata": {},
   "outputs": [
    {
     "ename": "TypeError",
     "evalue": "inner_function() takes 0 positional arguments but 2 were given",
     "output_type": "error",
     "traceback": [
      "\u001b[0;31m---------------------------------------------------------------------------\u001b[0m",
      "\u001b[0;31mTypeError\u001b[0m                                 Traceback (most recent call last)",
      "\u001b[0;32m<ipython-input-10-cd3c405b117b>\u001b[0m in \u001b[0;36m<module>\u001b[0;34m()\u001b[0m\n\u001b[0;32m----> 1\u001b[0;31m \u001b[0mdisplay_params\u001b[0m\u001b[0;34m(\u001b[0m\u001b[0;34m\"Mukesh\"\u001b[0m\u001b[0;34m,\u001b[0m\u001b[0;36m32\u001b[0m\u001b[0;34m)\u001b[0m\u001b[0;34m\u001b[0m\u001b[0m\n\u001b[0m",
      "\u001b[0;31mTypeError\u001b[0m: inner_function() takes 0 positional arguments but 2 were given"
     ]
    }
   ],
   "source": [
    "display_params(\"Mukesh\",32)"
   ]
  },
  {
   "cell_type": "markdown",
   "metadata": {},
   "source": [
    "To Over come above isse we have to add \\*args and \\**kwargs, which can take any number of positional and keyword arguments"
   ]
  },
  {
   "cell_type": "code",
   "execution_count": 17,
   "metadata": {},
   "outputs": [],
   "source": [
    "def decorator_fun(original_fun):\n",
    "    def inner_function(*args,**kwargs):\n",
    "        print(\"This is how we are adding functionality to display() without changing display fun\")\n",
    "        return original_fun(*args,**kwargs)\n",
    "    return inner_function"
   ]
  },
  {
   "cell_type": "code",
   "execution_count": 18,
   "metadata": {},
   "outputs": [],
   "source": [
    "@decorator_fun\n",
    "def display_params(name,age):\n",
    "    print(\"This function display name:{} and age:{}\".format(name,age))\n",
    "\n"
   ]
  },
  {
   "cell_type": "code",
   "execution_count": 19,
   "metadata": {},
   "outputs": [
    {
     "name": "stdout",
     "output_type": "stream",
     "text": [
      "This is how we are adding functionality to display() without changing display fun\n",
      "This function display name:Mukesh and age:32\n"
     ]
    }
   ],
   "source": [
    "display_params('Mukesh',32)"
   ]
  },
  {
   "cell_type": "markdown",
   "metadata": {},
   "source": [
    "Bingoooooooo"
   ]
  },
  {
   "cell_type": "code",
   "execution_count": 21,
   "metadata": {},
   "outputs": [
    {
     "name": "stdout",
     "output_type": "stream",
     "text": [
      "This is how we are adding functionality to display() without changing display fun\n",
      "Another Way of Decorator Display\n"
     ]
    }
   ],
   "source": [
    "my_display()"
   ]
  },
  {
   "cell_type": "markdown",
   "metadata": {},
   "source": [
    "Doing same Decorator function,but this time using class"
   ]
  },
  {
   "cell_type": "code",
   "execution_count": 35,
   "metadata": {},
   "outputs": [
    {
     "name": "stdout",
     "output_type": "stream",
     "text": [
      "Call method execulted before the another_display\n",
      "Avengers: Infinity War is directed by ['Anthony Russo', 'Joe Russo'] and released in 2018\n"
     ]
    }
   ],
   "source": [
    "class class_decorator(object):\n",
    "    def __init__(self,original_fun):\n",
    "        self.original_fun= original_fun\n",
    "    def __call__(self,*args,**kwargs):\n",
    "        print(\"Call method execulted before the {}\".format(self.original_fun.__name__))\n",
    "        return self.original_fun(*args,**kwargs)\n",
    "\n",
    "@class_decorator\n",
    "def another_display(movie,director,year):\n",
    "    print(\"{} is directed by {} and released in {}\".format(movie,director,year))\n",
    "    \n",
    "another_display('Avengers: Infinity War',['Anthony Russo','Joe Russo'],2018)"
   ]
  },
  {
   "cell_type": "markdown",
   "metadata": {},
   "source": [
    "Lets have a practical example for Decorator\n",
    "\n",
    "Ex:Implementing a logging function which will log how many times a function ran and number of arguments paased"
   ]
  },
  {
   "cell_type": "code",
   "execution_count": 50,
   "metadata": {},
   "outputs": [
    {
     "name": "stdout",
     "output_type": "stream",
     "text": [
      "Logg Info:function (another_display) ran with argemnts('Avengers: Infinity War', ('Anthony Russo', 'Joe Russo'), 2018) and keyword arguments{}\n",
      "Avengers: Infinity War is directed by ('Anthony Russo', 'Joe Russo') and released in 2018\n",
      "Logg Info:function (another_display) ran with argemnts('Black Panther', 'Ryan Coogler', 2018) and keyword arguments{}\n",
      "Black Panther is directed by Ryan Coogler and released in 2018\n",
      "Logg Info:function (another_display) ran with argemnts('Deadpool 2', 'David Leitch', 2018) and keyword arguments{}\n",
      "Deadpool 2 is directed by David Leitch and released in 2018\n",
      "Logg Info:function (another_display) ran with argemnts() and keyword arguments{'movie': 'Avengers: Endgame', 'director': ['Anthony Russo', 'Joe Russo'], 'year': 2018}\n",
      "Avengers: Endgame is directed by ['Anthony Russo', 'Joe Russo'] and released in 2018\n"
     ]
    }
   ],
   "source": [
    "def function_logger(original_fun):\n",
    "    def wrapper_fun(*args,**kwargs):\n",
    "        print('Logg Info:function ({}) ran with argemnts{} and keyword arguments{}'.format(original_fun.__name__,args,kwargs))\n",
    "        return original_fun(*args,**kwargs)\n",
    "    return wrapper_fun\n",
    "\n",
    "@function_logger\n",
    "def another_display(movie,director,year):\n",
    "    print(\"{} is directed by {} and released in {}\".format(movie,director,year))\n",
    "\n",
    "another_display('Avengers: Infinity War',('Anthony Russo','Joe Russo'),2018)\n",
    "another_display('Black Panther','Ryan Coogler',2018)\n",
    "another_display('Deadpool 2','David Leitch',2018)\n",
    "another_display(movie='Avengers: Endgame',director=['Anthony Russo','Joe Russo'],year=2018)"
   ]
  },
  {
   "cell_type": "markdown",
   "metadata": {},
   "source": [
    "Above Log Info can be written to a file "
   ]
  },
  {
   "cell_type": "code",
   "execution_count": 58,
   "metadata": {},
   "outputs": [
    {
     "name": "stdout",
     "output_type": "stream",
     "text": [
      "Avengers: Infinity War is directed by ('Anthony Russo', 'Joe Russo') and released in 2018\n",
      "Black Panther is directed by Ryan Coogler and released in 2018\n",
      "Deadpool 2 is directed by David Leitch and released in 2018\n",
      "Avengers: Endgame is directed by ['Anthony Russo', 'Joe Russo'] and released in 2018\n"
     ]
    }
   ],
   "source": [
    "def function_logger(original_fun):\n",
    "    import logging\n",
    "    logging.basicConfig(filename='{}.log'.format(original_fun.__name__),level=logging.INFO)\n",
    "    def wrapper_fun(*args,**kwargs):\n",
    "        logging.info('({}) ran with argemnts{} and keyword arguments{}'.format(original_fun.__name__,args,kwargs))\n",
    "        return original_fun(*args,**kwargs)\n",
    "    return wrapper_fun\n",
    "\n",
    "#@function_logger\n",
    "def another_display(movie,director,year):\n",
    "    print(\"{} is directed by {} and released in {}\".format(movie,director,year))\n",
    "\n",
    "another_display('Avengers: Infinity War',('Anthony Russo','Joe Russo'),2018)\n",
    "another_display('Black Panther','Ryan Coogler',2018)\n",
    "another_display('Deadpool 2','David Leitch',2018)\n",
    "another_display(movie='Avengers: Endgame',director=['Anthony Russo','Joe Russo'],year=2018)"
   ]
  },
  {
   "cell_type": "markdown",
   "metadata": {},
   "source": [
    "End Game"
   ]
  },
  {
   "cell_type": "code",
   "execution_count": 59,
   "metadata": {},
   "outputs": [
    {
     "name": "stdout",
     "output_type": "stream",
     "text": [
      "5\n"
     ]
    }
   ],
   "source": [
    "@function_logger\n",
    "def maths_opeartion(a,b,type):\n",
    "    if type == 'add':\n",
    "        print(a+b)\n",
    "    if type == 'sub':\n",
    "        print(b+c)\n",
    "maths_opeartion(2,3,'add')"
   ]
  },
  {
   "cell_type": "code",
   "execution_count": null,
   "metadata": {},
   "outputs": [],
   "source": []
  }
 ],
 "metadata": {
  "kernelspec": {
   "display_name": "Python 3",
   "language": "python",
   "name": "python3"
  },
  "language_info": {
   "codemirror_mode": {
    "name": "ipython",
    "version": 3
   },
   "file_extension": ".py",
   "mimetype": "text/x-python",
   "name": "python",
   "nbconvert_exporter": "python",
   "pygments_lexer": "ipython3",
   "version": "3.7.0"
  }
 },
 "nbformat": 4,
 "nbformat_minor": 2
}
