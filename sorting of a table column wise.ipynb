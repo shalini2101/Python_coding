{
 "cells": [
  {
   "cell_type": "code",
   "execution_count": 28,
   "metadata": {},
   "outputs": [],
   "source": [
    "data = [['Maharashta',112372972,307713,'Mumbai'],\n",
    "        ['Bihar',103804637,94163,'Patna'],\n",
    "        ['Rajasthan',68621012,342239,'Jaipur'],\n",
    "        ['Karnataka',61130704,191791,'Bangaluru'],\n",
    "        ['Gujrat',60383628,196024 ,'Gandhinagar']]\n"
   ]
  },
  {
   "cell_type": "markdown",
   "metadata": {},
   "source": [
    "# Using Pandas"
   ]
  },
  {
   "cell_type": "code",
   "execution_count": 29,
   "metadata": {},
   "outputs": [],
   "source": [
    "import pandas as pd"
   ]
  },
  {
   "cell_type": "code",
   "execution_count": 30,
   "metadata": {},
   "outputs": [],
   "source": [
    "Headers=['States','Population','Area','Capital']\n",
    "df=pd.DataFrame(data,columns=Headers)"
   ]
  },
  {
   "cell_type": "code",
   "execution_count": 31,
   "metadata": {},
   "outputs": [
    {
     "data": {
      "text/html": [
       "<div>\n",
       "<style scoped>\n",
       "    .dataframe tbody tr th:only-of-type {\n",
       "        vertical-align: middle;\n",
       "    }\n",
       "\n",
       "    .dataframe tbody tr th {\n",
       "        vertical-align: top;\n",
       "    }\n",
       "\n",
       "    .dataframe thead th {\n",
       "        text-align: right;\n",
       "    }\n",
       "</style>\n",
       "<table border=\"1\" class=\"dataframe\">\n",
       "  <thead>\n",
       "    <tr style=\"text-align: right;\">\n",
       "      <th></th>\n",
       "      <th>States</th>\n",
       "      <th>Population</th>\n",
       "      <th>Area</th>\n",
       "      <th>Capital</th>\n",
       "    </tr>\n",
       "  </thead>\n",
       "  <tbody>\n",
       "    <tr>\n",
       "      <th>0</th>\n",
       "      <td>Maharashta</td>\n",
       "      <td>112372972</td>\n",
       "      <td>307713</td>\n",
       "      <td>Mumbai</td>\n",
       "    </tr>\n",
       "    <tr>\n",
       "      <th>1</th>\n",
       "      <td>Bihar</td>\n",
       "      <td>103804637</td>\n",
       "      <td>94163</td>\n",
       "      <td>Patna</td>\n",
       "    </tr>\n",
       "    <tr>\n",
       "      <th>2</th>\n",
       "      <td>Rajasthan</td>\n",
       "      <td>68621012</td>\n",
       "      <td>342239</td>\n",
       "      <td>Jaipur</td>\n",
       "    </tr>\n",
       "    <tr>\n",
       "      <th>3</th>\n",
       "      <td>Karnataka</td>\n",
       "      <td>61130704</td>\n",
       "      <td>191791</td>\n",
       "      <td>Bangaluru</td>\n",
       "    </tr>\n",
       "    <tr>\n",
       "      <th>4</th>\n",
       "      <td>Gujrat</td>\n",
       "      <td>60383628</td>\n",
       "      <td>196024</td>\n",
       "      <td>Gandhinagar</td>\n",
       "    </tr>\n",
       "  </tbody>\n",
       "</table>\n",
       "</div>"
      ],
      "text/plain": [
       "       States  Population    Area      Capital\n",
       "0  Maharashta   112372972  307713       Mumbai\n",
       "1       Bihar   103804637   94163        Patna\n",
       "2   Rajasthan    68621012  342239       Jaipur\n",
       "3   Karnataka    61130704  191791    Bangaluru\n",
       "4      Gujrat    60383628  196024  Gandhinagar"
      ]
     },
     "execution_count": 31,
     "metadata": {},
     "output_type": "execute_result"
    }
   ],
   "source": [
    "df"
   ]
  },
  {
   "cell_type": "code",
   "execution_count": 32,
   "metadata": {},
   "outputs": [],
   "source": [
    "df.sort_values(\"States\",ascending=True,inplace=True)"
   ]
  },
  {
   "cell_type": "code",
   "execution_count": 33,
   "metadata": {},
   "outputs": [
    {
     "name": "stdout",
     "output_type": "stream",
     "text": [
      "       States  Population    Area      Capital\n",
      "1       Bihar   103804637   94163        Patna\n",
      "4      Gujrat    60383628  196024  Gandhinagar\n",
      "3   Karnataka    61130704  191791    Bangaluru\n",
      "0  Maharashta   112372972  307713       Mumbai\n",
      "2   Rajasthan    68621012  342239       Jaipur\n"
     ]
    }
   ],
   "source": [
    "print(df)"
   ]
  },
  {
   "cell_type": "code",
   "execution_count": 36,
   "metadata": {},
   "outputs": [],
   "source": [
    "df.sort_values('Population',inplace=True,ascending=False)"
   ]
  },
  {
   "cell_type": "code",
   "execution_count": 37,
   "metadata": {},
   "outputs": [
    {
     "name": "stdout",
     "output_type": "stream",
     "text": [
      "       States  Population    Area      Capital\n",
      "0  Maharashta   112372972  307713       Mumbai\n",
      "1       Bihar   103804637   94163        Patna\n",
      "2   Rajasthan    68621012  342239       Jaipur\n",
      "3   Karnataka    61130704  191791    Bangaluru\n",
      "4      Gujrat    60383628  196024  Gandhinagar\n"
     ]
    }
   ],
   "source": [
    "print(df)"
   ]
  },
  {
   "cell_type": "markdown",
   "metadata": {},
   "source": [
    "# Using Lambda"
   ]
  },
  {
   "cell_type": "markdown",
   "metadata": {},
   "source": [
    "To sort fisrt column"
   ]
  },
  {
   "cell_type": "code",
   "execution_count": 47,
   "metadata": {},
   "outputs": [],
   "source": [
    "result = lambda data: data[0]"
   ]
  },
  {
   "cell_type": "code",
   "execution_count": 48,
   "metadata": {},
   "outputs": [],
   "source": [
    "data.sort(key=result,reverse=False)"
   ]
  },
  {
   "cell_type": "code",
   "execution_count": 49,
   "metadata": {},
   "outputs": [
    {
     "data": {
      "text/plain": [
       "[['Bihar', 103804637, 94163, 'Patna'],\n",
       " ['Gujrat', 60383628, 196024, 'Gandhinagar'],\n",
       " ['Karnataka', 61130704, 191791, 'Bangaluru'],\n",
       " ['Maharashta', 112372972, 307713, 'Mumbai'],\n",
       " ['Rajasthan', 68621012, 342239, 'Jaipur']]"
      ]
     },
     "execution_count": 49,
     "metadata": {},
     "output_type": "execute_result"
    }
   ],
   "source": [
    "data"
   ]
  }
 ],
 "metadata": {
  "kernelspec": {
   "display_name": "Python 3",
   "language": "python",
   "name": "python3"
  },
  "language_info": {
   "codemirror_mode": {
    "name": "ipython",
    "version": 3
   },
   "file_extension": ".py",
   "mimetype": "text/x-python",
   "name": "python",
   "nbconvert_exporter": "python",
   "pygments_lexer": "ipython3",
   "version": "3.7.0"
  }
 },
 "nbformat": 4,
 "nbformat_minor": 2
}
