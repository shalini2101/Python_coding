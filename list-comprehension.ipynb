{
 "cells": [
  {
   "cell_type": "code",
   "execution_count": 1,
   "metadata": {},
   "outputs": [],
   "source": [
    "num=[1,2,3,4,5,6,7,8]"
   ]
  },
  {
   "cell_type": "markdown",
   "metadata": {},
   "source": [
    "US-1 :list with n in each n in num"
   ]
  },
  {
   "cell_type": "code",
   "execution_count": 2,
   "metadata": {},
   "outputs": [
    {
     "name": "stdout",
     "output_type": "stream",
     "text": [
      "[1, 2, 3, 4, 5, 6, 7, 8]\n"
     ]
    }
   ],
   "source": [
    "#without Comprehension\n",
    "out1=[]\n",
    "for n in num:\n",
    "    out1.append(n)\n",
    "print(out1)"
   ]
  },
  {
   "cell_type": "code",
   "execution_count": 3,
   "metadata": {},
   "outputs": [
    {
     "name": "stdout",
     "output_type": "stream",
     "text": [
      "[1, 2, 3, 4, 5, 6, 7, 8]\n"
     ]
    }
   ],
   "source": [
    "#with Comprehension\n",
    "out2=[n for n in num]\n",
    "print(out2)"
   ]
  },
  {
   "cell_type": "markdown",
   "metadata": {},
   "source": [
    "US-2: n*n for each n in num"
   ]
  },
  {
   "cell_type": "code",
   "execution_count": 4,
   "metadata": {},
   "outputs": [
    {
     "name": "stdout",
     "output_type": "stream",
     "text": [
      "[1, 4, 9, 16, 25, 36, 49, 64]\n"
     ]
    }
   ],
   "source": [
    "#without Comprehension\n",
    "out3=[]\n",
    "for n in num:\n",
    "    out3.append(n*n)\n",
    "print(out3)"
   ]
  },
  {
   "cell_type": "code",
   "execution_count": 7,
   "metadata": {},
   "outputs": [
    {
     "name": "stdout",
     "output_type": "stream",
     "text": [
      "[1, 4, 9, 16, 25, 36, 49, 64]\n"
     ]
    }
   ],
   "source": [
    "#with Comprehension\n",
    "out4=[n*n for n in num]\n",
    "print(out4)\n"
   ]
  },
  {
   "cell_type": "code",
   "execution_count": 8,
   "metadata": {},
   "outputs": [
    {
     "name": "stdout",
     "output_type": "stream",
     "text": [
      "[1, 4, 9, 16, 25, 36, 49, 64]\n"
     ]
    }
   ],
   "source": [
    "#using map + lambda\n",
    "out6=map(lambda n: n*n,num)\n",
    "print(list(out6))"
   ]
  },
  {
   "cell_type": "markdown",
   "metadata": {},
   "source": [
    "US-3: list with n for each n if n is even"
   ]
  },
  {
   "cell_type": "code",
   "execution_count": 9,
   "metadata": {},
   "outputs": [
    {
     "data": {
      "text/plain": [
       "[2, 4, 6, 8]"
      ]
     },
     "execution_count": 9,
     "metadata": {},
     "output_type": "execute_result"
    }
   ],
   "source": [
    "#without comp\n",
    "out7=[]\n",
    "for n in num:\n",
    "    if n % 2 == 0:\n",
    "        out7.append(n)\n",
    "out7"
   ]
  },
  {
   "cell_type": "code",
   "execution_count": 10,
   "metadata": {},
   "outputs": [
    {
     "data": {
      "text/plain": [
       "[2, 4, 6, 8]"
      ]
     },
     "execution_count": 10,
     "metadata": {},
     "output_type": "execute_result"
    }
   ],
   "source": [
    "#with comp\n",
    "out8=[n for n in num if n % 2 == 0]\n",
    "out8"
   ]
  },
  {
   "cell_type": "code",
   "execution_count": 11,
   "metadata": {},
   "outputs": [
    {
     "data": {
      "text/plain": [
       "[2, 4, 6, 8]"
      ]
     },
     "execution_count": 11,
     "metadata": {},
     "output_type": "execute_result"
    }
   ],
   "source": [
    "#with filter + lambda\n",
    "out9=filter(lambda n: n%2 == 0,num)\n",
    "list(out9)"
   ]
  },
  {
   "cell_type": "markdown",
   "metadata": {},
   "source": [
    "US-4: list with (char,number) pair for each char from 'abcd' for each n in num"
   ]
  },
  {
   "cell_type": "code",
   "execution_count": 12,
   "metadata": {},
   "outputs": [
    {
     "data": {
      "text/plain": [
       "[('a', 0),\n",
       " ('a', 1),\n",
       " ('a', 2),\n",
       " ('a', 3),\n",
       " ('b', 0),\n",
       " ('b', 1),\n",
       " ('b', 2),\n",
       " ('b', 3),\n",
       " ('c', 0),\n",
       " ('c', 1),\n",
       " ('c', 2),\n",
       " ('c', 3),\n",
       " ('d', 0),\n",
       " ('d', 1),\n",
       " ('d', 2),\n",
       " ('d', 3)]"
      ]
     },
     "execution_count": 12,
     "metadata": {},
     "output_type": "execute_result"
    }
   ],
   "source": [
    "#without comp\n",
    "out10=[]\n",
    "for c in 'abcd':\n",
    "    for n in range(4):\n",
    "        out10.append((c,n))\n",
    "out10"
   ]
  },
  {
   "cell_type": "code",
   "execution_count": 13,
   "metadata": {},
   "outputs": [
    {
     "data": {
      "text/plain": [
       "[('a', 0),\n",
       " ('a', 1),\n",
       " ('a', 2),\n",
       " ('a', 3),\n",
       " ('b', 0),\n",
       " ('b', 1),\n",
       " ('b', 2),\n",
       " ('b', 3),\n",
       " ('c', 0),\n",
       " ('c', 1),\n",
       " ('c', 2),\n",
       " ('c', 3),\n",
       " ('d', 0),\n",
       " ('d', 1),\n",
       " ('d', 2),\n",
       " ('d', 3)]"
      ]
     },
     "execution_count": 13,
     "metadata": {},
     "output_type": "execute_result"
    }
   ],
   "source": [
    "out11=[(c,n) for c in 'abcd' for n in range(4)]\n",
    "out11"
   ]
  },
  {
   "cell_type": "markdown",
   "metadata": {},
   "source": [
    "US-5 : Disctionary Comprehension\n",
    "    "
   ]
  },
  {
   "cell_type": "code",
   "execution_count": 14,
   "metadata": {},
   "outputs": [],
   "source": [
    "names = ['Bruce', 'Clark', 'Peter', 'Logan', 'Wade']\n",
    "heros = ['Batman', 'Superman', 'Spiderman', 'Wolverine', 'Deadpool']"
   ]
  },
  {
   "cell_type": "code",
   "execution_count": 15,
   "metadata": {},
   "outputs": [
    {
     "data": {
      "text/plain": [
       "{'Bruce': 'Batman',\n",
       " 'Clark': 'Superman',\n",
       " 'Peter': 'Spiderman',\n",
       " 'Logan': 'Wolverine',\n",
       " 'Wade': 'Deadpool'}"
      ]
     },
     "execution_count": 15,
     "metadata": {},
     "output_type": "execute_result"
    }
   ],
   "source": [
    "#with zip\n",
    "out12=zip(names,heros)\n",
    "dict(out12)"
   ]
  },
  {
   "cell_type": "code",
   "execution_count": 16,
   "metadata": {},
   "outputs": [
    {
     "data": {
      "text/plain": [
       "{'Bruce': 'Batman',\n",
       " 'Clark': 'Superman',\n",
       " 'Peter': 'Spiderman',\n",
       " 'Logan': 'Wolverine',\n",
       " 'Wade': 'Deadpool'}"
      ]
     },
     "execution_count": 16,
     "metadata": {},
     "output_type": "execute_result"
    }
   ],
   "source": [
    "#without zip and comp\n",
    "out13={}\n",
    "for name,hero in zip(names,heros):\n",
    "    out13[name]=hero\n",
    "out13"
   ]
  },
  {
   "cell_type": "code",
   "execution_count": 17,
   "metadata": {},
   "outputs": [
    {
     "name": "stdout",
     "output_type": "stream",
     "text": [
      "{'Bruce': 'Batman', 'Clark': 'Superman', 'Peter': 'Spiderman', 'Logan': 'Wolverine', 'Wade': 'Deadpool'}\n",
      "{'Bruce': 'Batman', 'Clark': 'Superman', 'Logan': 'Wolverine', 'Wade': 'Deadpool'}\n"
     ]
    }
   ],
   "source": [
    "#with comp\n",
    "out14={name:hero for name,hero in zip(names,heros)}\n",
    "print(out14)\n",
    "out15={name:hero for name,hero in zip(names,heros) if name !='Peter'}\n",
    "print(out15)"
   ]
  },
  {
   "cell_type": "markdown",
   "metadata": {},
   "source": [
    "US-6 COmprehesion for set()"
   ]
  },
  {
   "cell_type": "code",
   "execution_count": 18,
   "metadata": {},
   "outputs": [],
   "source": [
    "my_list=[1,1,1,1,1,2,2,2,3,3,3,4,4,4,5,6,7,8]"
   ]
  },
  {
   "cell_type": "code",
   "execution_count": 19,
   "metadata": {},
   "outputs": [
    {
     "data": {
      "text/plain": [
       "[1, 2, 3, 4, 5, 6, 7, 8]"
      ]
     },
     "execution_count": 19,
     "metadata": {},
     "output_type": "execute_result"
    }
   ],
   "source": [
    "#with set\n",
    "out16=set(my_list)\n",
    "list(out16)"
   ]
  },
  {
   "cell_type": "code",
   "execution_count": 20,
   "metadata": {},
   "outputs": [
    {
     "data": {
      "text/plain": [
       "{1, 2, 3, 4, 5, 6, 7, 8}"
      ]
     },
     "execution_count": 20,
     "metadata": {},
     "output_type": "execute_result"
    }
   ],
   "source": [
    "#without comp\n",
    "out17=set()\n",
    "for n in my_list:\n",
    "    out17.add(n)\n",
    "out17"
   ]
  },
  {
   "cell_type": "code",
   "execution_count": 21,
   "metadata": {},
   "outputs": [
    {
     "data": {
      "text/plain": [
       "[1, 2, 3, 4, 5, 6, 7, 8]"
      ]
     },
     "execution_count": 21,
     "metadata": {},
     "output_type": "execute_result"
    }
   ],
   "source": [
    "#with COmp\n",
    "out18={n for n in my_list}\n",
    "list(out18)"
   ]
  },
  {
   "cell_type": "markdown",
   "metadata": {},
   "source": [
    "US-7 Generator comprehensio, I want to yield 'n*n' for each 'n' in nums"
   ]
  },
  {
   "cell_type": "code",
   "execution_count": 28,
   "metadata": {},
   "outputs": [
    {
     "name": "stdout",
     "output_type": "stream",
     "text": [
      "1\n",
      "4\n",
      "9\n",
      "16\n",
      "25\n",
      "36\n",
      "49\n",
      "64\n"
     ]
    }
   ],
   "source": [
    "#without Comp\n",
    "def yield_f(n):\n",
    "    for n in num:\n",
    "        yield n*n\n",
    "my_gen=yield_f(num)\n",
    "\n",
    "for i in my_gen:\n",
    "    print(i)"
   ]
  },
  {
   "cell_type": "code",
   "execution_count": 34,
   "metadata": {},
   "outputs": [],
   "source": [
    "#with comp\n",
    "out19=(n*n for n in num)"
   ]
  },
  {
   "cell_type": "code",
   "execution_count": 36,
   "metadata": {},
   "outputs": [
    {
     "name": "stdout",
     "output_type": "stream",
     "text": [
      "1\n",
      "4\n",
      "9\n",
      "16\n",
      "25\n",
      "36\n",
      "49\n",
      "64\n"
     ]
    }
   ],
   "source": [
    "for i in out19:\n",
    "    print(i)"
   ]
  },
  {
   "cell_type": "code",
   "execution_count": null,
   "metadata": {},
   "outputs": [],
   "source": []
  }
 ],
 "metadata": {
  "kernelspec": {
   "display_name": "Python 3",
   "language": "python",
   "name": "python3"
  },
  "language_info": {
   "codemirror_mode": {
    "name": "ipython",
    "version": 3
   },
   "file_extension": ".py",
   "mimetype": "text/x-python",
   "name": "python",
   "nbconvert_exporter": "python",
   "pygments_lexer": "ipython3",
   "version": "3.7.6"
  }
 },
 "nbformat": 4,
 "nbformat_minor": 2
}
