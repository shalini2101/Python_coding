{
 "cells": [
  {
   "cell_type": "markdown",
   "metadata": {},
   "source": [
    "write a program to check anagram. Ex: str1='dear' and str2='read'. both string has similar character so both are anagram"
   ]
  },
  {
   "cell_type": "code",
   "execution_count": 1,
   "metadata": {},
   "outputs": [],
   "source": [
    "def check_anagram(s1,s2):\n",
    "    if len(s1) != len(s2):\n",
    "        return False\n",
    "    for i in s1:\n",
    "        if s2.count(i) == 0:\n",
    "            return False\n",
    "    return True\n"
   ]
  },
  {
   "cell_type": "code",
   "execution_count": 2,
   "metadata": {},
   "outputs": [
    {
     "name": "stdout",
     "output_type": "stream",
     "text": [
      "dear and read are anagram\n"
     ]
    }
   ],
   "source": [
    "s1='dear'\n",
    "s2='read'\n",
    "if True == check_anagram(s1,s2):\n",
    "    print('{} and {} are anagram'.format(s1,s2))\n",
    "else:\n",
    "    print('{} and {} are not anagram'.format(s1,s2))\n",
    "    \n",
    "    "
   ]
  },
  {
   "cell_type": "code",
   "execution_count": 3,
   "metadata": {},
   "outputs": [
    {
     "name": "stdout",
     "output_type": "stream",
     "text": [
      "soap and shop are not anagram\n"
     ]
    }
   ],
   "source": [
    "s1='soap'\n",
    "s2='shop'\n",
    "if True == check_anagram(s1,s2):\n",
    "    print('{} and {} are anagram'.format(s1,s2))\n",
    "else:\n",
    "    print('{} and {} are not anagram'.format(s1,s2))\n",
    "\n"
   ]
  },
  {
   "cell_type": "code",
   "execution_count": 4,
   "metadata": {},
   "outputs": [
    {
     "name": "stdout",
     "output_type": "stream",
     "text": [
      "dear and deer are not anagram\n"
     ]
    }
   ],
   "source": [
    "s1='dear'\n",
    "s2='deer'\n",
    "if True == check_anagram(s1,s2):\n",
    "    print('{} and {} are anagram'.format(s1,s2))\n",
    "else:\n",
    "    print('{} and {} are not anagram'.format(s1,s2))\n",
    "\n",
    "\n"
   ]
  },
  {
   "cell_type": "markdown",
   "metadata": {},
   "source": [
    "2 # Remove minimum number of element so one string become an anagram. Ex: str1='dearing' and str2='dear'. \n",
    "Remove minimum number of character from str1 so it will become anagarm of str2"
   ]
  },
  {
   "cell_type": "code",
   "execution_count": 77,
   "metadata": {},
   "outputs": [],
   "source": [
    "def char_eleminator(s1,s2):\n",
    "    if len(s1) > len(s2):\n",
    "        for x in s1:\n",
    "            if s2.count(x) == 0:\n",
    "                s1=s1.replace(x,'')\n",
    "    elif len(s2) > len(s2):\n",
    "        for x in s2:\n",
    "            if s1.count(x) == 0:\n",
    "                s2=s2.replace(x,'')\n",
    "    return(s1,s2)"
   ]
  },
  {
   "cell_type": "code",
   "execution_count": 80,
   "metadata": {},
   "outputs": [
    {
     "name": "stdout",
     "output_type": "stream",
     "text": [
      "dear and dear are anagram\n"
     ]
    }
   ],
   "source": [
    "str1='dearing'\n",
    "str2='dear'\n",
    "s1,s2=char_eleminator(str1,str2)\n",
    "if True == check_anagram(s1,s2):\n",
    "    print('{} and {} are anagram'.format(s1,s2))\n",
    "else:\n",
    "    print('{} and {} are not anagram'.format(s1,s2))\n",
    "\n"
   ]
  }
 ],
 "metadata": {
  "kernelspec": {
   "display_name": "Python 3",
   "language": "python",
   "name": "python3"
  },
  "language_info": {
   "codemirror_mode": {
    "name": "ipython",
    "version": 3
   },
   "file_extension": ".py",
   "mimetype": "text/x-python",
   "name": "python",
   "nbconvert_exporter": "python",
   "pygments_lexer": "ipython3",
   "version": "3.7.0"
  }
 },
 "nbformat": 4,
 "nbformat_minor": 2
}
