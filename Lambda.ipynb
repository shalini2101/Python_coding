{
 "cells": [
  {
   "cell_type": "markdown",
   "metadata": {},
   "source": [
    "Lambda is a function with no name , anonymous function "
   ]
  },
  {
   "cell_type": "code",
   "execution_count": 1,
   "metadata": {},
   "outputs": [
    {
     "name": "stdout",
     "output_type": "stream",
     "text": [
      "7\n"
     ]
    }
   ],
   "source": [
    "#suppose\n",
    "def fun(x):\n",
    "    return 3*x+1\n",
    "print(fun(2))"
   ]
  },
  {
   "cell_type": "code",
   "execution_count": 2,
   "metadata": {},
   "outputs": [
    {
     "name": "stdout",
     "output_type": "stream",
     "text": [
      "7\n"
     ]
    }
   ],
   "source": [
    "#now same function in lambda\n",
    "result = lambda x:3*x+1\n",
    "print(result(2))"
   ]
  },
  {
   "cell_type": "code",
   "execution_count": 3,
   "metadata": {},
   "outputs": [
    {
     "name": "stdout",
     "output_type": "stream",
     "text": [
      "Mukesh Kumar\n"
     ]
    }
   ],
   "source": [
    "#combining first and last name of a login page where user enters their fisrt and last name\n",
    "\n",
    "full_name = lambda fn, ln : fn.strip().title()+\" \"+ln.strip().title()\n",
    "print(full_name('Mukesh','KUMAR'))"
   ]
  },
  {
   "cell_type": "code",
   "execution_count": 8,
   "metadata": {},
   "outputs": [
    {
     "name": "stdout",
     "output_type": "stream",
     "text": [
      "Help on built-in function sort:\n",
      "\n",
      "sort(*, key=None, reverse=False) method of builtins.list instance\n",
      "    Stable sort *IN PLACE*.\n",
      "\n"
     ]
    }
   ],
   "source": [
    "#Out for few Indian Cricketer who has last names some of the players has middle name as well. Need to write a \n",
    "#lambda function which will sort the names using last name\n",
    "\n",
    "actors=['Virat Kohli', 'Rohit Sharma', 'M. S. Dhoni','K. L. Rahul','Ravindra Jadeja','Jasprit Bumrah','Shikhar Dhawan',\n",
    "       'Md. Shami']\n",
    "help(actors.sort)"
   ]
  },
  {
   "cell_type": "code",
   "execution_count": 10,
   "metadata": {},
   "outputs": [],
   "source": [
    "actors.sort(key=lambda name: name.split(\" \")[-1].lower())"
   ]
  },
  {
   "cell_type": "code",
   "execution_count": 11,
   "metadata": {},
   "outputs": [
    {
     "data": {
      "text/plain": [
       "['Jasprit Bumrah',\n",
       " 'Shikhar Dhawan',\n",
       " 'M. S. Dhoni',\n",
       " 'Ravindra Jadeja',\n",
       " 'Virat Kohli',\n",
       " 'K. L. Rahul',\n",
       " 'Md. Shami',\n",
       " 'Rohit Sharma']"
      ]
     },
     "execution_count": 11,
     "metadata": {},
     "output_type": "execute_result"
    }
   ],
   "source": [
    "actors"
   ]
  },
  {
   "cell_type": "code",
   "execution_count": 15,
   "metadata": {},
   "outputs": [
    {
     "data": {
      "text/plain": [
       "6"
      ]
     },
     "execution_count": 15,
     "metadata": {},
     "output_type": "execute_result"
    }
   ],
   "source": [
    "#Quadratic Equation aX^2 + bx + c\n",
    "\n",
    "def quadratic_eqn(a,b,c):\n",
    "    return lambda x: a*x**2 + b*x + c\n",
    "f=quadratic_eqn(1,2,3)\n",
    "f(1)"
   ]
  },
  {
   "cell_type": "code",
   "execution_count": 16,
   "metadata": {},
   "outputs": [
    {
     "data": {
      "text/plain": [
       "11"
      ]
     },
     "execution_count": 16,
     "metadata": {},
     "output_type": "execute_result"
    }
   ],
   "source": [
    "f(2)"
   ]
  },
  {
   "cell_type": "code",
   "execution_count": 17,
   "metadata": {},
   "outputs": [
    {
     "data": {
      "text/plain": [
       "18"
      ]
     },
     "execution_count": 17,
     "metadata": {},
     "output_type": "execute_result"
    }
   ],
   "source": [
    "#or\n",
    "quadratic_eqn(2,3,4)(2)"
   ]
  },
  {
   "cell_type": "code",
   "execution_count": null,
   "metadata": {},
   "outputs": [],
   "source": []
  }
 ],
 "metadata": {
  "kernelspec": {
   "display_name": "Python 3",
   "language": "python",
   "name": "python3"
  },
  "language_info": {
   "codemirror_mode": {
    "name": "ipython",
    "version": 3
   },
   "file_extension": ".py",
   "mimetype": "text/x-python",
   "name": "python",
   "nbconvert_exporter": "python",
   "pygments_lexer": "ipython3",
   "version": "3.7.0"
  }
 },
 "nbformat": 4,
 "nbformat_minor": 2
}
